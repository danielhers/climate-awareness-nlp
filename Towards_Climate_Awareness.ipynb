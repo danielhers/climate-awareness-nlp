{
  "nbformat": 4,
  "nbformat_minor": 0,
  "metadata": {
    "colab": {
      "provenance": [],
      "collapsed_sections": [],
      "private_outputs": true
    },
    "kernelspec": {
      "name": "python3",
      "display_name": "Python 3"
    },
    "language_info": {
      "name": "python"
    }
  },
  "cells": [
    {
      "cell_type": "markdown",
      "source": [
        "##Towards Climate Awareness in NLP Research"
      ],
      "metadata": {
        "id": "ekuAAJfdIgeP"
      }
    },
    {
      "cell_type": "markdown",
      "source": [
        "Literature survey notebook"
      ],
      "metadata": {
        "id": "MpFaxV72Irfc"
      }
    },
    {
      "cell_type": "markdown",
      "source": [
        "### Part I: Fetch papers\n",
        "\n",
        "Only run this part if needed!"
      ],
      "metadata": {
        "id": "z4_b-MdQh-AO"
      }
    },
    {
      "cell_type": "code",
      "execution_count": null,
      "metadata": {
        "id": "rq9n0qGznexY"
      },
      "outputs": [],
      "source": [
        "!git clone https://github.com/coastalcph/acl-citations\n",
        "!cd acl-citations/ && pip install -r requirements.txt\n",
        "!apt-get install xpdf"
      ]
    },
    {
      "cell_type": "markdown",
      "source": [
        "Pattern for before 2020:\n",
        "\n",
        "```{C,D,E,N,P}{16,17,18,19}-```\n",
        "\n",
        "Pattern for 2020 onwards:\n",
        "\n",
        "```202?.{acl,emnlp,coling,naacl,aacl,eacl,findings,sustainlp,nlp4posimpact}-```"
      ],
      "metadata": {
        "id": "GATj2vkhf04g"
      }
    },
    {
      "cell_type": "code",
      "source": [
        "!cd acl-citations/bin && python acl_anthology.py fetch 202?.{acl,emnlp,coling,naacl,aacl,eacl,findings,sustainlp,nlp4posimpact}-"
      ],
      "metadata": {
        "id": "fnBl3vIwpkpB"
      },
      "execution_count": null,
      "outputs": []
    },
    {
      "cell_type": "markdown",
      "source": [
        "Convert pdf files to txt files"
      ],
      "metadata": {
        "id": "Ac1WHs6QgUjn"
      }
    },
    {
      "cell_type": "code",
      "source": [
        "!find acl-citations/bin/pdf/ -name '*.pdf' -exec pdftotext -raw \"{}\" \"{}.txt\" \\;"
      ],
      "metadata": {
        "id": "PpP-tPxN0UCu"
      },
      "execution_count": null,
      "outputs": []
    },
    {
      "cell_type": "markdown",
      "source": [
        "Zip or unzip text files"
      ],
      "metadata": {
        "id": "rc0SurDKjFea"
      }
    },
    {
      "cell_type": "code",
      "source": [
        "!zip papers.zip acl-citations/bin/pdf/*/*.txt"
      ],
      "metadata": {
        "id": "PKi7X7fVi_EE"
      },
      "execution_count": null,
      "outputs": []
    },
    {
      "cell_type": "markdown",
      "source": [
        "### Part II: Analysis"
      ],
      "metadata": {
        "id": "hJXmVtkFjKCU"
      }
    },
    {
      "cell_type": "code",
      "source": [
        "!pip install --upgrade --no-cache-dir gdown"
      ],
      "metadata": {
        "id": "erc1ZdDqmCR6"
      },
      "execution_count": null,
      "outputs": []
    },
    {
      "cell_type": "markdown",
      "source": [
        "Import relevant packages"
      ],
      "metadata": {
        "id": "PsJcDOWrjM1k"
      }
    },
    {
      "cell_type": "code",
      "source": [
        "import glob\n",
        "import re\n",
        "from collections import defaultdict, Counter\n",
        "\n",
        "import pandas as pd\n",
        "import matplotlib.pyplot as plt\n",
        "import seaborn as sns"
      ],
      "metadata": {
        "id": "9n53yW3nHHrA"
      },
      "execution_count": null,
      "outputs": []
    },
    {
      "cell_type": "markdown",
      "source": [
        "Download papers from Google Drive and unzip them"
      ],
      "metadata": {
        "id": "E3PmtFeOili3"
      }
    },
    {
      "cell_type": "code",
      "source": [
        "!gdown #Insert Google Drive ID here (optional)\n",
        "!unzip papers.zip"
      ],
      "metadata": {
        "id": "ug3-WALaiYMs",
        "collapsed": true
      },
      "execution_count": null,
      "outputs": []
    },
    {
      "cell_type": "markdown",
      "source": [
        "Read text files"
      ],
      "metadata": {
        "id": "18v5qLXWgrmB"
      }
    },
    {
      "cell_type": "code",
      "source": [
        "paper_dict = {}\n",
        "number_of_papers = len(glob.glob(\"acl-citations/bin/pdf/*/*.txt\"))\n",
        "print(\"Number of papers: \" + str(number_of_papers))\n",
        "\n",
        "for filename in glob.glob(\"acl-citations/bin/pdf/*/*.txt\"):\n",
        "  with open(filename) as file:\n",
        "    # Remove path from filename and read text\n",
        "    paper_dict[filename[26:-8]] = \" \".join([line.rstrip(\"\\n\") for line in file])\n",
        "    # Merge words\n",
        "    paper_dict[filename[26:-8]] = re.sub(\"- \", \"\", paper_dict[filename[26:-8]]).strip(\" \")"
      ],
      "metadata": {
        "id": "W7NQyA0oHbC-"
      },
      "execution_count": null,
      "outputs": []
    },
    {
      "cell_type": "markdown",
      "source": [
        "Define regex patterns"
      ],
      "metadata": {
        "id": "uMLpLI77gtsU"
      }
    },
    {
      "cell_type": "code",
      "source": [
        "pattern_dict = {\n",
        "    \"public\": r\"(((model|weight) (will be|is)?|(models|weights) (will be|are)?) (public|available|upload|made available|made public|provided (at|under|on)))|((publish|upload) [a-zA-Z0-9, ]{0,20}(model(s)?|weight(s)?))|(make [a-zA-Z0-9, ]{0,20}(model(s)?|weight(s)?) (available|public))|(provide [a-zA-Z0-9, ]{0,20}(model(s)?|weight(s)?) (at|under|on))\",\n",
        "    \"duration\": r\"(((pre(-)?)?train(ing|ed)?|optimize|optimization|(fine(-)?)?tun(e|ed|ing)) ([a-zA-Z0-9, ]{0,20})(for|took|take(s)?) ([a-zA-Z0-9, ]{0,20})(seconds|minute|hour|day|week|month)+)|hours of computation\",\n",
        "    \"energy\": r\"(energy|power|electricity) (consumption|usage)|(is|of|at) [1-9]{1}[0-9]{2,5} (watt(s)?|(k)?w) | pue \",\n",
        "    \"location\": r\"((data ?center|(a|the) cloud|(virtual|gpu) machine|computer cluster|hpc) (is )?(at|in) )|(cloud|azure|google|aws)([a-zA-Z0-9, ]{0,20})region\",\n",
        "    \"emission\": r\"(co2(e|eq)?|ghg|carbon) (footprint|emission(s)?|emitted|offset(ting)?) \"\n",
        "}"
      ],
      "metadata": {
        "id": "cJnnmI46SQHL"
      },
      "execution_count": null,
      "outputs": []
    },
    {
      "cell_type": "code",
      "source": [
        "def get_counts(paper_dict, pattern, print_matches=False):\n",
        "  \"\"\"Get counts of papers in paper_dict matching pattern\"\"\"\n",
        "  counter = defaultdict(Counter)\n",
        "\n",
        "  for article, text in paper_dict.items():\n",
        "    # If the paper is deep-learning-related\n",
        "    if (re.search(\"model\", text, re.IGNORECASE) is not None \n",
        "        and re.search(r\"deep learning|neural network|lstm|recurrent neural network|rnn|transformer|mlp|convolutional neural network|cnn|gpt\", text, re.IGNORECASE) is not None):\n",
        "      \n",
        "      # Get publication year\n",
        "      year = \"20\" + article[1:3]if article[0].isalpha() else article[:4]\n",
        "      \n",
        "      # Update counter for general\n",
        "      counter[year].update([\"general\"])\n",
        "\n",
        "      # Search for pattern\n",
        "      match = re.search(pattern, text, re.IGNORECASE)\n",
        "      \n",
        "      if match is not None:\n",
        "        if print_matches:\n",
        "          print(article + \": \" + match[0])\n",
        "\n",
        "        # Update counter for pattern\n",
        "        counter[year].update([\"pattern\"])\n",
        "\n",
        "  return counter"
      ],
      "metadata": {
        "id": "ONh-3C_XMguh"
      },
      "execution_count": null,
      "outputs": []
    },
    {
      "cell_type": "markdown",
      "source": [
        "Apply function for all patterns"
      ],
      "metadata": {
        "id": "P7eGmwqrge1i"
      }
    },
    {
      "cell_type": "code",
      "source": [
        "results = defaultdict(dict)\n",
        "\n",
        "for pattern in pattern_dict.keys():\n",
        "  counter = get_counts(paper_dict, pattern_dict[pattern])\n",
        "\n",
        "  for key in counter.keys():\n",
        "    results[pattern][key] = counter[key][\"pattern\"] / counter[key][\"general\"]"
      ],
      "metadata": {
        "id": "UiDDffueplyI"
      },
      "execution_count": null,
      "outputs": []
    },
    {
      "cell_type": "markdown",
      "source": [
        "Convert to DataFrame"
      ],
      "metadata": {
        "id": "SkcisVqTgkcB"
      }
    },
    {
      "cell_type": "code",
      "source": [
        "plot_data = pd.DataFrame.from_dict(results).sort_index()\n",
        "plot_data = round(plot_data * 100, 2)"
      ],
      "metadata": {
        "id": "8LOXuus-p--N"
      },
      "execution_count": null,
      "outputs": []
    },
    {
      "cell_type": "markdown",
      "source": [
        "Plot figure"
      ],
      "metadata": {
        "id": "jJG3GQlngnvv"
      }
    },
    {
      "cell_type": "code",
      "source": [
        "plt.figure(figsize=(8,5))\n",
        "\n",
        "p = sns.lineplot(data=plot_data)\n",
        "\n",
        "p.set_xlabel(\"Year\", fontsize=12)\n",
        "p.set_ylabel(\"% of deep-learning-related papers\", fontsize=12)\n",
        "p.tick_params(labelsize=12)\n",
        "p.legend(fontsize=12)\n",
        "\n",
        "p.set_yticklabels(['{:,.1f}'.format(x) for x in p.get_yticks()])\n",
        "\n",
        "sns.despine(left=True, bottom=True, right=True)\n",
        "\n",
        "plt.savefig('survey_proportions.png', dpi=300, bbox_inches='tight')"
      ],
      "metadata": {
        "id": "6pocJEHebuCT"
      },
      "execution_count": null,
      "outputs": []
    }
  ]
}